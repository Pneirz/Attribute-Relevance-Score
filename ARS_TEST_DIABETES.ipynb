{
 "cells": [
  {
   "cell_type": "code",
   "execution_count": 1,
   "metadata": {},
   "outputs": [
    {
     "name": "stderr",
     "output_type": "stream",
     "text": [
      "Extension for Scikit-learn* enabled (https://github.com/uxlfoundation/scikit-learn-intelex)\n"
     ]
    },
    {
     "name": "stdout",
     "output_type": "stream",
     "text": [
      "Calculando ARS para 8 características en paralelo...\n"
     ]
    }
   ],
   "source": [
    "import numpy as np\n",
    "import pandas as pd\n",
    "from sklearn.preprocessing import LabelEncoder\n",
    "from ars_intel import ARS\n",
    "\n",
    "\n",
    "df = pd.read_csv(\"diabetes_prediction_dataset.csv\")\n",
    "# Preprocesamiento de datos\n",
    "# Codificar variables categóricas\n",
    "le = LabelEncoder()\n",
    "categorical_columns = ['gender', 'smoking_history']\n",
    "for col in categorical_columns:\n",
    "    df[col] = le.fit_transform(df[col])\n",
    "results = ARS.calculate_all_features(\n",
    "    df, \n",
    "    target_column='diabetes', \n",
    "    objective='classification',  # Importante para problemas binarios\n",
    "    model_type = 'tree',\n",
    "    n_jobs=-1\n",
    ")\n"
   ]
  },
  {
   "cell_type": "code",
   "execution_count": 2,
   "metadata": {},
   "outputs": [
    {
     "data": {
      "text/html": [
       "<div>\n",
       "<style scoped>\n",
       "    .dataframe tbody tr th:only-of-type {\n",
       "        vertical-align: middle;\n",
       "    }\n",
       "\n",
       "    .dataframe tbody tr th {\n",
       "        vertical-align: top;\n",
       "    }\n",
       "\n",
       "    .dataframe thead th {\n",
       "        text-align: right;\n",
       "    }\n",
       "</style>\n",
       "<table border=\"1\" class=\"dataframe\">\n",
       "  <thead>\n",
       "    <tr style=\"text-align: right;\">\n",
       "      <th></th>\n",
       "      <th>feature</th>\n",
       "      <th>ARS</th>\n",
       "      <th>median_original</th>\n",
       "      <th>threshold</th>\n",
       "      <th>objective</th>\n",
       "      <th>model_type</th>\n",
       "    </tr>\n",
       "  </thead>\n",
       "  <tbody>\n",
       "    <tr>\n",
       "      <th>0</th>\n",
       "      <td>HbA1c_level</td>\n",
       "      <td>0.575089</td>\n",
       "      <td>0.6285</td>\n",
       "      <td>0.1257</td>\n",
       "      <td>classification</td>\n",
       "      <td>tree</td>\n",
       "    </tr>\n",
       "    <tr>\n",
       "      <th>1</th>\n",
       "      <td>blood_glucose_level</td>\n",
       "      <td>0.501407</td>\n",
       "      <td>0.5569</td>\n",
       "      <td>0.1113</td>\n",
       "      <td>classification</td>\n",
       "      <td>tree</td>\n",
       "    </tr>\n",
       "    <tr>\n",
       "      <th>2</th>\n",
       "      <td>bmi</td>\n",
       "      <td>0.030220</td>\n",
       "      <td>0.0469</td>\n",
       "      <td>0.0172</td>\n",
       "      <td>classification</td>\n",
       "      <td>tree</td>\n",
       "    </tr>\n",
       "    <tr>\n",
       "      <th>3</th>\n",
       "      <td>gender</td>\n",
       "      <td>0.000000</td>\n",
       "      <td>0.0000</td>\n",
       "      <td>0.0000</td>\n",
       "      <td>classification</td>\n",
       "      <td>tree</td>\n",
       "    </tr>\n",
       "    <tr>\n",
       "      <th>4</th>\n",
       "      <td>heart_disease</td>\n",
       "      <td>0.000000</td>\n",
       "      <td>0.0000</td>\n",
       "      <td>0.0000</td>\n",
       "      <td>classification</td>\n",
       "      <td>tree</td>\n",
       "    </tr>\n",
       "    <tr>\n",
       "      <th>5</th>\n",
       "      <td>hypertension</td>\n",
       "      <td>0.000000</td>\n",
       "      <td>0.0000</td>\n",
       "      <td>0.0000</td>\n",
       "      <td>classification</td>\n",
       "      <td>tree</td>\n",
       "    </tr>\n",
       "    <tr>\n",
       "      <th>6</th>\n",
       "      <td>age</td>\n",
       "      <td>0.000000</td>\n",
       "      <td>0.0000</td>\n",
       "      <td>0.0000</td>\n",
       "      <td>classification</td>\n",
       "      <td>tree</td>\n",
       "    </tr>\n",
       "    <tr>\n",
       "      <th>7</th>\n",
       "      <td>smoking_history</td>\n",
       "      <td>0.000000</td>\n",
       "      <td>0.0000</td>\n",
       "      <td>0.0000</td>\n",
       "      <td>classification</td>\n",
       "      <td>tree</td>\n",
       "    </tr>\n",
       "  </tbody>\n",
       "</table>\n",
       "</div>"
      ],
      "text/plain": [
       "               feature       ARS  median_original  threshold       objective  \\\n",
       "0          HbA1c_level  0.575089           0.6285     0.1257  classification   \n",
       "1  blood_glucose_level  0.501407           0.5569     0.1113  classification   \n",
       "2                  bmi  0.030220           0.0469     0.0172  classification   \n",
       "3               gender  0.000000           0.0000     0.0000  classification   \n",
       "4        heart_disease  0.000000           0.0000     0.0000  classification   \n",
       "5         hypertension  0.000000           0.0000     0.0000  classification   \n",
       "6                  age  0.000000           0.0000     0.0000  classification   \n",
       "7      smoking_history  0.000000           0.0000     0.0000  classification   \n",
       "\n",
       "  model_type  \n",
       "0       tree  \n",
       "1       tree  \n",
       "2       tree  \n",
       "3       tree  \n",
       "4       tree  \n",
       "5       tree  \n",
       "6       tree  \n",
       "7       tree  "
      ]
     },
     "execution_count": 2,
     "metadata": {},
     "output_type": "execute_result"
    }
   ],
   "source": [
    "results\n"
   ]
  },
  {
   "cell_type": "code",
   "execution_count": null,
   "metadata": {},
   "outputs": [],
   "source": []
  }
 ],
 "metadata": {
  "kernelspec": {
   "display_name": ".venv",
   "language": "python",
   "name": "python3"
  },
  "language_info": {
   "codemirror_mode": {
    "name": "ipython",
    "version": 3
   },
   "file_extension": ".py",
   "mimetype": "text/x-python",
   "name": "python",
   "nbconvert_exporter": "python",
   "pygments_lexer": "ipython3",
   "version": "3.13.3"
  }
 },
 "nbformat": 4,
 "nbformat_minor": 2
}
